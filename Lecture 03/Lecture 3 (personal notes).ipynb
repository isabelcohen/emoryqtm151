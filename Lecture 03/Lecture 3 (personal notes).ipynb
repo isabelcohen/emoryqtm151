{
 "cells": [
  {
   "attachments": {},
   "cell_type": "markdown",
   "metadata": {},
   "source": [
    "# <span style=\"color:darkblue\"> Lecture 3: Mathematical Operations and Random Numbers </span>"
   ]
  },
  {
   "attachments": {},
   "cell_type": "markdown",
   "metadata": {},
   "source": [
    "<font size=\"5\"> \n",
    "\n",
    "In the previous class we:\n",
    "- Introduced lists and variable types\n",
    "- Talked about how to extract elements from a list"
   ]
  },
  {
   "attachments": {},
   "cell_type": "markdown",
   "metadata": {},
   "source": [
    "<font size=\"5\"> \n",
    "\n",
    "In this class we will:\n",
    "\n",
    "- Introduce a library for general mathematical operations\n",
    "- Generate random numbers\n",
    "- (Optional) Matrix operations"
   ]
  },
  {
   "attachments": {},
   "cell_type": "markdown",
   "metadata": {},
   "source": [
    "## <span style=\"color:darkblue\"> I. Import Libraries </span>"
   ]
  },
  {
   "cell_type": "code",
   "execution_count": 1,
   "metadata": {},
   "outputs": [],
   "source": [
    "# the \"numPy\" package is used for mathematical operations\n",
    "\n",
    "import numpy as np\n",
    "import matplotlib.pyplot as plt\n"
   ]
  },
  {
   "attachments": {},
   "cell_type": "markdown",
   "metadata": {},
   "source": [
    "##  <span style=\"color:darkblue\"> II. Numbers and Functions </span>"
   ]
  },
  {
   "attachments": {},
   "cell_type": "markdown",
   "metadata": {},
   "source": [
    "Examples of numPy numbers"
   ]
  },
  {
   "cell_type": "code",
   "execution_count": 2,
   "metadata": {},
   "outputs": [
    {
     "data": {
      "text/plain": [
       "3.141592653589793"
      ]
     },
     "execution_count": 2,
     "metadata": {},
     "output_type": "execute_result"
    }
   ],
   "source": [
    "# Computes \"pi\" (3.14...)\n",
    "np.pi"
   ]
  },
  {
   "attachments": {},
   "cell_type": "markdown",
   "metadata": {},
   "source": [
    "Examples of numPy functions"
   ]
  },
  {
   "cell_type": "code",
   "execution_count": 11,
   "metadata": {},
   "outputs": [
    {
     "name": "stdout",
     "output_type": "stream",
     "text": [
      "0.0\n",
      "2.718281828459045\n",
      "0.8414709848078965\n",
      "0.5403023058681398\n",
      "1.0\n"
     ]
    }
   ],
   "source": [
    "# log(x) computes the logarithm with base \"e\" (Euler constant) - natural log (ln)\n",
    "# exp(x) compute the Euler constant raised to the power of \"x\" (e^x)\n",
    "# sing(x) computes the sine of x\n",
    "# cos(x) computes the cosine of x\n",
    "# sqrt(x) computes the square root of x\n",
    "\n",
    "print(np.log(1))\n",
    "print(np.exp(1))\n",
    "print(np.sin(1))\n",
    "print(np.cos(1))\n",
    "print(np.sqrt(1))"
   ]
  },
  {
   "cell_type": "code",
   "execution_count": null,
   "metadata": {},
   "outputs": [],
   "source": [
    "# create a new variable x = 5\n",
    "# compute Pi(x)^2\n",
    "\n",
    "x = 5\n",
    "np.pi*(5**2)\n"
   ]
  },
  {
   "attachments": {},
   "cell_type": "markdown",
   "metadata": {},
   "source": [
    "##  <span style=\"color:darkblue\"> III. Vector Arrays </span>"
   ]
  },
  {
   "attachments": {},
   "cell_type": "markdown",
   "metadata": {},
   "source": [
    "<font size = \"5\">\n",
    "Create an array from a list"
   ]
  },
  {
   "cell_type": "code",
   "execution_count": 4,
   "metadata": {},
   "outputs": [],
   "source": [
    "# You create an array by converting a list [1,2,3,4,5] to a numeric object\n",
    "# \"array\" is a subfunction of the library numPy.\n",
    "\n",
    "array_a  = np.array([1,2,3,4,5])\n",
    "array_b  = np.array([0,1,0,0,1])\n",
    "array_c  = np.array([10,100,100])\n"
   ]
  },
  {
   "attachments": {},
   "cell_type": "markdown",
   "metadata": {},
   "source": [
    "<font size = \"5\">\n",
    "\n",
    "Accessing an element of an array"
   ]
  },
  {
   "cell_type": "code",
   "execution_count": 5,
   "metadata": {},
   "outputs": [
    {
     "name": "stdout",
     "output_type": "stream",
     "text": [
      "1\n",
      "5\n"
     ]
    }
   ],
   "source": [
    "# Arrays, like lists, start their numbering at zero.\n",
    "\n",
    "print(array_a[0])\n",
    "print(array_a[4])\n"
   ]
  },
  {
   "attachments": {},
   "cell_type": "markdown",
   "metadata": {},
   "source": [
    "<font size = \"5\">\n",
    "Operations with a single array and a scalar"
   ]
  },
  {
   "cell_type": "code",
   "execution_count": 6,
   "metadata": {},
   "outputs": [
    {
     "name": "stdout",
     "output_type": "stream",
     "text": [
      "[ 2  4  6  8 10]\n",
      "[0.5 1.  1.5 2.  2.5]\n",
      "[3 4 5 6 7]\n",
      "[ 1  4  9 16 25]\n"
     ]
    }
   ],
   "source": [
    "# A scalar refers to either an int or float\n",
    "# We can do many common operations with \n",
    "\n",
    "print(array_a * 2)\n",
    "print(array_a / 2)\n",
    "print(array_a + 2)\n",
    "print(array_a ** 2)"
   ]
  },
  {
   "attachments": {},
   "cell_type": "markdown",
   "metadata": {},
   "source": [
    "<font size = \"5\">\n",
    "Element-by-element operations between two arrays of the same size"
   ]
  },
  {
   "cell_type": "code",
   "execution_count": 7,
   "metadata": {},
   "outputs": [
    {
     "name": "stdout",
     "output_type": "stream",
     "text": [
      "[1 3 3 4 6]\n"
     ]
    }
   ],
   "source": [
    "# When you add two arrays of the same size,\n",
    "# Python adds the individual elements in each position\n",
    "\n",
    "print(array_a + array_b)\n"
   ]
  },
  {
   "cell_type": "code",
   "execution_count": null,
   "metadata": {},
   "outputs": [],
   "source": [
    "# We can do other similar element-by-element operations\n",
    "# such as multiplication, subtraction, and division.\n",
    "\n",
    "print(array_a * array_b)\n",
    "print(array_a - array_b)\n",
    "print(array_a / array_b)\n"
   ]
  },
  {
   "attachments": {},
   "cell_type": "markdown",
   "metadata": {},
   "source": [
    "<font size = \"5\">\n",
    "Summary statistics of an array"
   ]
  },
  {
   "cell_type": "code",
   "execution_count": 8,
   "metadata": {},
   "outputs": [
    {
     "name": "stdout",
     "output_type": "stream",
     "text": [
      "3.0\n",
      "1.4142135623730951\n",
      "1\n",
      "3.0\n",
      "5\n"
     ]
    }
   ],
   "source": [
    "# The function np.mean() computes the mean of an array\n",
    "# We can do similar operations for the standard deviation (std),\n",
    "# the minimum (min), the median (median), and the maximum (max).\n",
    "\n",
    "print(np.mean(array_a))\n",
    "print(np.std(array_a))\n",
    "print(np.min(array_a))\n",
    "print(np.median(array_a))\n",
    "print(np.max(array_a))"
   ]
  },
  {
   "cell_type": "code",
   "execution_count": 9,
   "metadata": {},
   "outputs": [],
   "source": [
    "# Create your own array and compute any of the above summary statistics\n",
    "\n",
    "\n"
   ]
  },
  {
   "attachments": {},
   "cell_type": "markdown",
   "metadata": {},
   "source": [
    "<font size = \"5\">\n",
    "<span style=\"color:red\"> Controlled Error </span>: Make sure that the arrays have the same size"
   ]
  },
  {
   "cell_type": "code",
   "execution_count": 30,
   "metadata": {},
   "outputs": [
    {
     "ename": "ValueError",
     "evalue": "operands could not be broadcast together with shapes (5,) (3,) ",
     "output_type": "error",
     "traceback": [
      "\u001b[0;31m---------------------------------------------------------------------------\u001b[0m",
      "\u001b[0;31mValueError\u001b[0m                                Traceback (most recent call last)",
      "Cell \u001b[0;32mIn[30], line 3\u001b[0m\n\u001b[1;32m      1\u001b[0m \u001b[39m# Here I try to combine two arrays of different size.\u001b[39;00m\n\u001b[0;32m----> 3\u001b[0m array_a \u001b[39m+\u001b[39;49m array_c\n",
      "\u001b[0;31mValueError\u001b[0m: operands could not be broadcast together with shapes (5,) (3,) "
     ]
    }
   ],
   "source": [
    "# Here I try to combine two arrays of different size.\n",
    "\n",
    "array_a + array_c"
   ]
  },
  {
   "attachments": {},
   "cell_type": "markdown",
   "metadata": {},
   "source": [
    "##  <span style=\"color:darkblue\"> IV. Random Numbers </span>\n",
    "\n",
    "<font size = \"5\">\n",
    "\n",
    "Used for a variety of purposes, e.g.\n",
    "- Simulate different scenarios: high risk or low risk\n",
    "- Study a system and/or estimator\n",
    "- In medicine, randomly assign subjects to treatment or control"
   ]
  },
  {
   "attachments": {},
   "cell_type": "markdown",
   "metadata": {},
   "source": [
    "<font size = \"5\">\n",
    "\n",
    "Create a vector of random variables"
   ]
  },
  {
   "cell_type": "code",
   "execution_count": 10,
   "metadata": {},
   "outputs": [
    {
     "name": "stdout",
     "output_type": "stream",
     "text": [
      "[ 3.57977728e-01 -1.67773648e+00 -1.16281651e+00 -1.01306243e+00\n",
      "  1.71594245e-01 -9.81788406e-01 -4.39802604e-01  3.92385213e-01\n",
      " -4.01563028e-01 -7.91999578e-01 -1.50240800e-02 -1.18476350e+00\n",
      " -7.81315299e-02  2.62763886e-02 -1.59180549e+00 -9.12916609e-01\n",
      "  1.07180559e+00  5.40104650e-01  2.86188467e-01  2.54971964e-01\n",
      " -1.50494150e+00 -1.49822517e+00  7.67169886e-01  3.37467730e-01\n",
      " -8.07622654e-01 -1.72254947e-01  2.05061203e-01  1.84142309e-01\n",
      " -7.74567484e-01 -9.04825449e-01 -9.13684217e-01  1.38594886e+00\n",
      "  1.81219173e+00  7.61337250e-01  2.51433633e+00 -4.75542275e-01\n",
      "  3.36319398e-01 -5.53901496e-01 -2.50161973e-01 -8.20594714e-01\n",
      "  1.00620478e+00 -6.91804635e-01 -1.17542416e+00 -2.43609353e+00\n",
      "  1.39245920e+00  3.71573882e-01 -1.30478373e+00  1.99775972e-01\n",
      " -9.63333732e-01 -9.55790796e-01  4.31278873e-01  1.25591947e+00\n",
      "  8.34272084e-02  7.09150486e-01 -7.87912637e-02 -6.14622395e-01\n",
      "  3.72123480e-01 -1.28163497e+00 -1.27360715e+00  5.12524441e-01\n",
      " -2.04480506e+00  1.60753485e+00  8.67114420e-01  2.61814717e-01\n",
      "  1.88572269e+00 -7.97165063e-02 -2.21102569e+00  1.50013570e+00\n",
      "  1.30450762e+00  7.63361543e-01  7.78168473e-01 -1.22847571e+00\n",
      " -3.41453764e-01  5.83401345e-01  2.31731374e+00 -8.97302553e-01\n",
      "  1.05052573e+00 -3.28706297e-01 -3.92882680e-01  1.95450116e+00\n",
      "  8.44722925e-02 -3.73031342e-02  1.23863820e-01 -9.07430374e-01\n",
      "  1.27190185e+00 -3.00010123e-01 -2.52849634e-01 -1.05643008e+00\n",
      "  7.35061565e-02  3.62818480e-01  8.22165227e-03 -7.46774968e-01\n",
      "  3.12945153e-01  1.00227497e+00  7.47429294e-01 -1.56957827e+00\n",
      "  1.53969779e+00 -1.27545260e+00  1.33488800e+00 -1.29411711e+00\n",
      "  3.62960612e-01 -7.74931375e-01 -5.37802987e-01  9.10136960e-01\n",
      "  1.01487289e+00 -1.61896669e+00  4.32192949e-02  1.26773904e+00\n",
      " -1.12334477e+00 -3.31484221e-01 -1.76279713e+00 -1.53402841e+00\n",
      "  2.92612484e-01 -8.09257938e-02  1.91845677e-01 -1.30226046e+00\n",
      " -8.51620477e-03  2.21998137e-01  5.44964933e-01  8.35893644e-01\n",
      "  1.83814160e+00  2.31450635e-01 -1.00163358e-01  8.79550342e-01\n",
      " -8.54875276e-02 -1.65147974e-01  1.03571382e+00  3.95589316e-01\n",
      " -5.49116620e-01  4.64318441e-01 -1.02286157e+00 -5.47234361e-01\n",
      "  1.26341730e+00 -1.26881240e+00 -4.58303124e-01  5.67664800e-01\n",
      " -6.60535760e-01  1.16370214e-01  5.88839272e-01 -3.25383248e-01\n",
      "  2.18875505e-01  1.93407094e+00  1.04250400e+00  2.54618433e-02\n",
      " -4.19216274e-01 -4.12262872e+00 -7.31124396e-01  1.31767463e+00\n",
      " -7.35600306e-02  4.36367696e-01 -4.48259432e-01 -1.54731644e-01\n",
      "  6.35208662e-01 -2.49768191e-01  1.48760776e+00  1.00395490e-01\n",
      " -8.24165569e-01 -4.44474984e-01 -8.17579858e-01 -3.45139405e-02\n",
      " -1.32909532e+00 -1.34973748e+00  1.61608097e+00  1.65404083e-01\n",
      " -8.58833657e-01  6.97030101e-01 -2.11121040e+00 -9.84684990e-02\n",
      "  3.68509648e-01  4.41131986e-01  2.10047286e+00 -1.00180772e+00\n",
      " -6.40628144e-01  1.72051643e-01  2.01324270e-01  2.69303067e+00\n",
      " -1.29788072e+00 -9.52360113e-02  8.26254181e-02 -2.55375482e-01\n",
      "  3.94196450e-01 -1.74388489e+00  2.24813158e+00 -6.08171565e-01\n",
      "  2.40405980e+00 -3.77302742e-01  1.94835186e-01  7.10255353e-02\n",
      " -3.31314833e-01  2.81468706e-01  1.20020896e+00  1.86317432e-01\n",
      " -7.57736356e-01 -8.46910083e-01  2.64541976e-01 -8.09920000e-01\n",
      " -1.93003497e+00  1.99802619e+00  5.12497290e-01 -8.03571835e-01\n",
      "  8.23542267e-02  4.32116823e-01  6.81882928e-01 -1.45593154e+00\n",
      " -4.41919305e-01 -7.31022787e-01 -8.51154407e-01 -1.00537852e+00\n",
      "  1.31461207e+00 -3.94722201e-01 -1.13530810e+00 -1.47319173e+00\n",
      "  4.44616793e-01  1.27274394e+00  5.29826046e-01  2.14777880e-01\n",
      " -8.17616020e-01 -2.44455325e-01 -1.68223739e+00 -1.66019758e+00\n",
      " -6.50534480e-01  5.77691962e-01  1.28587275e+00  9.93892174e-01\n",
      " -3.93055425e-01  4.27942786e-01  7.98099999e-01  1.02827833e+00\n",
      " -5.65949961e-01 -2.30965587e-01  1.06614722e+00 -3.21971042e-01\n",
      "  2.90720619e-01 -7.03762799e-01 -1.47641252e-01 -1.16835625e-01\n",
      "  2.03270322e+00 -2.32566528e-01 -7.35263641e-02 -2.86061018e-01\n",
      " -1.64456393e+00  6.17763704e-02  4.71050786e-01  6.99634609e-01\n",
      " -1.40505620e+00 -1.51477828e+00  7.69626942e-01 -5.67706165e-01\n",
      "  4.22314730e-01 -3.33402777e-01  8.12289281e-01 -1.39340374e-01\n",
      "  6.64316739e-01 -1.48980007e+00 -5.69724972e-01 -5.19171588e-01\n",
      " -1.41284116e+00  1.04199922e-01 -4.52669321e-02 -8.63200830e-01\n",
      "  1.87046735e+00 -8.40359148e-01 -1.01109077e+00  5.10377817e-01\n",
      "  9.31946535e-01 -5.80230878e-01  1.96689851e+00 -7.96956851e-01\n",
      "  1.80560327e+00 -7.00159269e-01 -1.21358009e+00  3.71218080e-01\n",
      "  4.54712396e-01  7.65104581e-01  3.69900448e-01  1.28700801e-01\n",
      " -6.80950921e-01 -7.05464628e-01 -7.36295875e-01  9.11422966e-01\n",
      " -1.30181123e+00 -1.62847955e+00  5.13821532e-01 -4.63226735e-01\n",
      " -8.04308062e-01 -1.35080469e+00  1.44610382e+00 -1.54837693e+00\n",
      "  7.73702342e-01  9.18110645e-01  1.39152201e+00 -3.06052393e-01\n",
      " -1.40121946e+00 -4.93063825e-01  3.58416622e-01 -6.33456858e-01\n",
      " -3.44776700e-01 -5.76513418e-01 -8.78628032e-01 -2.11773008e-01\n",
      " -1.05904245e+00 -1.22977738e+00 -1.78795573e+00  8.46572645e-03\n",
      "  4.85353486e-02 -1.20240268e+00 -4.35870825e-01 -1.09991998e+00\n",
      " -3.47618560e-01 -4.96933209e-01 -3.98585254e-01  5.06217020e-01\n",
      " -1.63499270e+00 -4.52767816e-01  1.45413412e-01 -1.81281515e+00\n",
      "  3.79493214e-01 -8.41701351e-02  5.31197039e-01  3.65776398e-01\n",
      "  4.19989834e-01  1.27756990e+00  1.87848950e-01 -5.08603426e-01\n",
      "  5.97469615e-01 -4.89133559e-01  1.03019773e+00 -1.19246841e+00\n",
      "  4.83867123e-01  1.43420777e+00 -7.99268337e-02  1.46369201e-01\n",
      " -5.92262510e-01 -2.27862620e+00 -2.70539882e+00  2.55096250e-01\n",
      " -6.66654012e-01 -2.51794686e-01  8.70045847e-01 -3.16699044e-01\n",
      " -7.14843338e-01 -6.04373706e-02  1.51513992e-01  7.15435837e-01\n",
      " -4.30985225e-01  3.53341853e-01 -3.94609542e-01 -5.21224303e-01\n",
      " -1.84372430e+00  6.21081412e-01 -1.34279871e+00  1.94870427e+00\n",
      "  4.26087036e-01 -2.46839110e+00  2.81617795e-01 -9.51009693e-01\n",
      " -6.91840467e-01  1.53768583e+00 -1.14024508e+00 -1.20869117e-01\n",
      "  1.61598045e-01 -1.50557243e+00 -1.10457159e-01  6.72860172e-01\n",
      "  1.68625503e+00  2.76034525e-03 -2.13281639e+00  4.58339247e-01\n",
      " -1.64075162e-01  1.11190306e+00  1.89520305e+00 -1.23563345e+00\n",
      " -8.83068108e-01 -5.49823319e-02 -7.66164548e-01 -1.07010145e+00\n",
      " -1.99334657e+00 -1.72452403e-01 -1.02490938e+00 -3.79984682e-01\n",
      "  8.91886897e-01  2.46883123e-01  5.38267590e-02 -3.29927130e-01\n",
      " -1.26096034e+00 -3.35949483e-01 -4.84980285e-01 -2.62261364e-01\n",
      " -5.32832675e-01 -1.09738032e+00  4.65699982e-01  8.08713606e-01\n",
      "  2.18693564e-01 -2.17159542e+00 -3.41516969e-01 -3.64269941e-01\n",
      "  1.46692604e+00  1.33732051e+00 -1.50373966e+00  1.69950793e+00\n",
      " -2.05683177e+00  2.73085154e-01 -1.60017651e+00 -2.42814681e-01\n",
      "  8.65431448e-01  1.15413000e+00 -5.32333506e-01 -9.30345095e-03\n",
      " -2.02142734e-01 -4.20609170e-01 -1.37435726e+00  9.69075547e-01\n",
      "  2.95223315e-01 -1.34485441e+00  9.59618634e-01 -1.19184852e+00\n",
      "  3.53988298e-01 -3.21223247e-01 -1.44152146e+00  6.03604796e-01\n",
      " -2.03320747e-01  1.39156295e-01 -7.08809861e-01  1.29963058e-01\n",
      "  2.08279844e-01 -6.93649856e-01 -2.56211851e-01  1.29537514e+00\n",
      " -5.67497895e-01 -9.19087299e-01  1.48050049e-01  7.09517534e-01\n",
      " -5.66065102e-02 -9.19342364e-01  5.89692787e-02  6.01355674e-01\n",
      " -2.28645654e+00  3.51622863e-01 -1.63586974e+00 -3.49240671e-01\n",
      " -1.26662209e+00  4.65357498e-01 -8.67168332e-02  1.55475647e+00\n",
      " -3.70052051e-01 -1.00563875e+00  1.02910578e+00 -7.99782643e-01\n",
      "  2.44440683e+00  7.75594260e-01  1.13503805e-01  1.29560831e+00\n",
      " -4.49063620e-01  1.74601831e+00 -1.15277535e+00 -4.30140936e-01\n",
      "  9.15516304e-01  3.74160724e-01 -1.35404068e+00  4.63194648e-01\n",
      " -4.02520448e-01 -2.14088226e+00 -1.05451448e-01 -7.77132146e-02\n",
      " -4.71553097e-01 -1.02409389e+00  1.00064791e+00 -1.49325586e+00\n",
      "  7.22023497e-01 -1.06096483e+00 -1.08280499e+00  2.91972713e-01\n",
      "  4.41371851e-01 -7.04933856e-01 -1.87957466e+00 -1.99928295e-01\n",
      "  1.00659364e+00  1.76491383e-01 -5.66941622e-01  4.28399481e-01\n",
      "  3.87257315e-01  1.54695201e+00 -3.07508379e-02 -5.21009828e-01\n",
      " -2.99322002e-01  5.18747140e-01  4.66588208e-01  9.03484957e-01\n",
      " -4.61528013e-01  6.94722045e-01 -1.88418388e-01 -6.04744929e-01\n",
      " -1.58414451e+00 -9.11050207e-01 -2.19623595e-01 -4.31668678e-01\n",
      "  1.36491633e+00 -6.53006933e-01  1.05009941e+00  7.48507685e-01\n",
      "  1.07006649e+00 -4.84576532e-01 -4.00246457e-01 -8.00863647e-02\n",
      " -2.61133301e-01 -3.67435839e-01 -7.98162598e-02 -1.02098430e+00\n",
      " -1.84896339e-01  1.04932323e+00 -1.04758530e+00  1.93419118e+00\n",
      "  1.21690882e+00 -5.21756628e-01  1.92647182e+00  2.91695267e-01\n",
      " -2.36095217e-01  9.73363651e-01 -1.58725266e+00  9.86536702e-01\n",
      " -1.85534186e+00  1.37392753e+00  1.06393017e+00 -1.09620177e+00\n",
      "  1.17688475e+00 -5.81650550e-01  1.75001630e+00  4.16399849e-01\n",
      " -5.97016888e-01 -1.22211887e+00  1.40671294e+00 -3.04698888e-01\n",
      " -2.96063631e-01  1.37525369e+00  3.05833187e+00 -2.76593905e-01\n",
      " -1.11411658e+00 -1.16032356e-01 -1.72063348e+00 -1.71444367e+00\n",
      "  1.77403838e+00 -1.09317575e+00 -5.98735627e-01 -1.37848531e-01\n",
      " -1.73269711e+00 -6.84358107e-01 -2.24431843e-01  4.65198819e-01\n",
      "  1.27681286e+00 -7.07932911e-01  2.58169072e-01  2.74965781e-01\n",
      "  3.41032478e-01  1.24106708e-01 -7.36730517e-01  3.86528805e-02\n",
      "  9.98312386e-01 -6.14954326e-01 -8.94731428e-01  1.01767945e+00\n",
      "  2.13739150e-01 -1.12666999e-01 -5.03636250e-01  6.91136861e-01\n",
      " -2.42972990e-02 -1.24398102e-01 -4.54957719e-01 -1.31834546e+00\n",
      " -1.00941753e+00  6.21237983e-01 -9.18669223e-01  1.01293939e+00\n",
      " -2.81426100e-03  1.89831178e-01  1.14640703e-01  2.02917698e+00\n",
      "  5.99328059e-01  9.82359670e-01  1.30504716e+00  5.40400562e-01\n",
      "  1.54702700e+00  8.23994170e-01  7.10727576e-01  2.93023167e-01\n",
      "  2.90938985e-01  6.77453199e-01  1.52705031e-01  2.33758441e+00\n",
      "  8.51171495e-01  7.57797337e-01 -1.57698007e-01 -3.96671562e-01\n",
      "  6.10994232e-01 -1.02346362e+00  1.49306791e+00 -2.05381812e-01\n",
      "  5.26752798e-01 -1.10302071e+00 -1.04331937e+00 -9.59353186e-02\n",
      "  8.24025353e-01 -1.79660248e+00  1.11960030e-01  8.49146545e-01\n",
      " -1.77891173e+00  1.72003557e-01 -1.92684235e+00 -6.01735740e-01\n",
      "  2.93645061e-01 -4.27267396e-01  1.06650642e+00  1.24889266e+00\n",
      "  1.15306380e+00 -1.11534397e+00 -7.83524155e-01 -9.43583631e-02\n",
      " -1.24784822e-01  9.27088785e-01  9.47873451e-01  4.94643409e-01\n",
      " -1.32233868e-01 -3.34042171e-01 -1.87470594e+00  5.95998753e-01\n",
      " -2.14822309e-01 -3.82757262e-02 -4.39413443e-01 -4.00417711e-01\n",
      "  6.00370930e-01  3.66653318e-01 -2.28387064e+00 -7.97210973e-01\n",
      " -1.13513997e+00  2.15595726e-01  3.89295970e-01  1.93673112e-01\n",
      " -3.55258449e-01  1.60647357e-01  8.93327124e-01  1.17159205e+00\n",
      " -1.28045549e+00  3.49716591e-01 -4.42660873e-01  2.08522437e+00\n",
      " -2.46726593e-01  1.88494106e+00  7.52394905e-01 -1.86367312e+00\n",
      "  1.03732898e+00 -1.35280332e+00 -4.29161317e-02 -7.85735606e-01\n",
      " -1.31898055e+00 -1.81793971e+00  4.53868217e-01 -1.52686327e+00\n",
      "  4.75125700e-01 -1.29793028e+00  3.95314897e-01 -4.60366995e-01\n",
      "  8.21614477e-01  1.48519518e+00  1.40840269e+00 -9.84895497e-01\n",
      "  1.02041755e+00 -6.34088020e-01 -1.36811583e+00  7.17890784e-01\n",
      " -4.44495595e-01  7.58042918e-02 -1.17657118e-01  6.78649368e-01\n",
      " -1.57478516e+00  1.15372074e+00  1.26977618e+00 -1.66942171e+00\n",
      "  7.51020327e-01  3.63307029e-01 -7.96638796e-01  8.09656513e-02\n",
      " -2.81137640e+00 -1.08200757e+00 -1.99456469e-01  2.35545939e+00\n",
      " -5.71192578e-01 -2.14907971e+00 -1.55563621e-01 -5.96913100e-01\n",
      " -1.17293627e-01  5.54380202e-01 -1.86588210e+00 -1.99567254e-01\n",
      "  1.16294224e-01 -2.78205276e-01  2.03770052e+00  2.64720610e-01\n",
      " -1.97660566e-01  3.91831426e-01 -1.03425273e+00 -1.09383076e+00\n",
      "  4.43813386e-01  9.20578121e-04  9.18601255e-01 -6.84410350e-01\n",
      " -1.18461581e-01 -1.28901060e-01  2.54639113e+00 -2.18186060e-01\n",
      " -7.51949441e-01  8.82110507e-01  4.92283909e-01 -7.01879237e-01\n",
      " -6.53717491e-01  1.45187741e-01 -3.87465997e-02 -1.54133009e+00\n",
      " -7.85038900e-01  6.97000851e-01  1.29295566e+00 -8.09982410e-01\n",
      " -1.84863415e+00 -1.47732977e+00 -2.02258330e+00  1.67720016e-01\n",
      "  1.70095394e+00 -1.17323847e+00  6.51731167e-01  1.24685644e+00\n",
      "  4.79499781e-01  2.78747036e-01  8.73312277e-01  2.58934230e+00\n",
      "  1.28755047e+00  7.37251297e-01  5.73848006e-01  5.02676785e-01\n",
      " -6.31912429e-01  1.52315647e-01  5.02542944e-01 -1.37944245e-01\n",
      "  1.60685882e+00 -1.56510196e+00 -1.66332468e+00 -3.48357060e-01\n",
      "  7.94303520e-01  3.69563929e-01  1.33805417e+00 -1.53518510e+00\n",
      " -4.42593393e-03 -3.66189817e-01 -5.23079038e-01 -1.15062137e+00\n",
      " -1.89207199e+00 -1.55688278e+00  1.44878871e+00  5.55190623e-02\n",
      " -6.79981462e-01 -6.69566373e-01 -6.31455335e-01 -3.95521120e-03\n",
      "  1.44541012e+00  3.95598606e-01  9.47966754e-01  1.78359488e+00\n",
      "  2.97034038e-01 -1.23755129e+00  7.85473734e-01  3.65965192e-01\n",
      "  2.05565354e+00 -1.06989580e-01  2.77859135e-01  5.63278456e-01\n",
      "  3.43644987e-01 -6.28892585e-01 -2.04212470e+00 -1.45732671e+00\n",
      " -9.32005145e-01 -3.30742703e-01  5.10924482e-01 -3.57438465e-01\n",
      "  8.55396039e-01  6.50707490e-01 -6.21826582e-01  1.20770999e+00\n",
      " -2.13698109e-01 -1.20065463e+00 -5.89611173e-01 -1.19334176e+00\n",
      "  1.31630440e+00 -5.19626648e-01  4.66537010e-01  8.38906979e-01\n",
      " -2.05136443e-01 -1.16336529e+00 -6.76423919e-01 -2.93780195e+00\n",
      "  6.75489465e-02 -3.67394957e-01 -1.23804118e+00 -9.04337841e-01\n",
      " -8.21520572e-01 -4.61659238e-01  2.52970616e-01  1.10280715e+00\n",
      " -4.03908992e-01 -4.62909345e-01  1.41640691e+00  4.99683582e-01\n",
      "  7.96717849e-02  1.25224495e+00 -1.86236302e+00 -4.33141327e-01\n",
      "  3.19715569e-01  1.83486319e-01 -2.62884313e-01  1.53057171e+00\n",
      " -1.02160170e+00 -2.31845161e+00 -1.23883153e+00  1.56430102e+00\n",
      "  5.62855332e-01 -1.10569807e+00  1.02525379e+00 -6.17971811e-02\n",
      " -1.69492975e-01  9.88851219e-01 -9.36826021e-02 -1.20602323e+00\n",
      "  1.92823562e-01 -7.30607828e-01 -1.27796235e+00  8.56261657e-02\n",
      " -4.32082566e-01 -1.62941667e+00  2.13113037e-01 -1.00988118e+00\n",
      " -5.57986850e-01 -4.73009194e-01 -8.65927382e-01  1.20832351e-01\n",
      "  1.98329753e+00  5.61172740e-02  4.02650350e-01  1.38058802e+00\n",
      " -1.12234251e-01  5.95438609e-01 -1.03788247e+00  1.65831966e+00\n",
      " -7.88919057e-01 -1.81824769e+00  6.08125151e-01 -3.65421112e-01\n",
      " -2.42372713e+00  6.61441632e-02 -4.23176379e-02  7.33869751e-01\n",
      "  7.48395218e-01 -7.53746344e-01 -6.73140981e-01  9.41480111e-01\n",
      "  2.82301509e-01 -4.61958799e-01 -3.43707676e-01  1.56482985e-01\n",
      " -1.96253208e+00 -4.48979037e-01 -3.86459036e-01 -1.35141093e+00\n",
      "  1.83179372e-01  3.70872774e-01 -4.83327507e-01  5.67114604e-01\n",
      "  3.15518962e-01  5.83970003e-02  7.17637629e-01  5.78800991e-01\n",
      "  7.38420619e-01  1.10319820e+00  1.40106117e+00 -5.02974265e-01\n",
      " -1.69443293e+00 -8.63016956e-01  2.23209614e+00  9.50266922e-01\n",
      "  1.70644540e+00 -5.01183828e-01 -2.11653690e+00  1.27403161e+00\n",
      " -2.58023830e+00 -1.89983468e+00 -1.35006106e+00  1.26811376e+00\n",
      "  1.26272483e+00  2.92205839e+00  6.91170075e-01  1.10208190e+00\n",
      "  1.15698218e+00 -9.85747042e-01 -1.67472090e+00  7.87678391e-02\n",
      " -8.49600125e-02  6.18931124e-01 -1.64729658e+00  2.30627181e-01\n",
      "  3.44350713e-01  2.15082706e-01 -1.89410420e+00 -1.37528310e+00\n",
      " -1.94737840e+00 -1.24575305e-01  4.84896712e-01 -1.39790079e+00\n",
      " -2.15737783e+00 -1.09096948e-02  7.68698915e-01  2.44286484e-02\n",
      " -1.48247191e+00  8.65880471e-02  2.49699687e+00 -6.80869180e-01\n",
      " -3.01043946e-01 -1.34653152e-02 -1.92354122e+00  7.98249449e-01\n",
      " -3.91796323e-02 -1.19121231e+00 -1.05680869e+00  1.07982593e+00\n",
      "  2.88273886e-01 -1.20696006e+00 -1.31149142e-01  7.35243376e-01\n",
      " -3.54369478e-01 -2.28652271e-01 -2.49735137e-01  3.34195246e-01\n",
      " -4.35636021e-01  3.34749441e-01 -8.73276118e-01  1.50507689e+00\n",
      " -1.33422768e+00  1.22192593e+00  5.70426641e-01 -8.12014283e-03\n",
      "  1.89966672e-01  1.82499718e+00  1.24018610e+00  9.88454125e-01\n",
      " -6.98021985e-01  1.96330373e-01  3.72360217e-01  2.40340357e-01\n",
      "  1.42913255e+00 -4.77278608e-01 -3.97405445e-01  4.42445961e-01\n",
      "  8.33937646e-01  1.12911871e+00  7.51582896e-01 -1.31269751e-01\n",
      "  2.08763440e+00  1.18188615e-01 -1.91820556e-01  7.67393654e-01\n",
      "  1.61199498e+00 -1.66565994e+00 -4.84310906e-01 -1.47769091e+00\n",
      "  1.81946581e-01 -1.76946856e+00  1.58445040e+00 -3.08220127e-03\n",
      "  2.44895578e-01 -2.61145807e-01  6.33216416e-01  6.57524065e-01\n",
      "  5.69186137e-01 -1.69239315e+00  2.06379587e-01  1.40172942e+00\n",
      " -5.69710900e-02  1.73358626e-01 -1.61006906e+00 -8.21262587e-02\n",
      " -6.02213048e-01 -3.53319657e-01  4.20098168e-01  1.07224694e+00\n",
      "  5.15876624e-01  8.98091721e-02 -1.15864600e-01 -4.20185846e-01\n",
      "  1.78420765e+00 -1.08460290e+00 -9.65154983e-01 -1.01682880e+00\n",
      " -8.30304213e-01  6.52550854e-01 -2.56038739e-01 -1.66861150e+00]\n"
     ]
    }
   ],
   "source": [
    "# This code creates a vector of random variables \n",
    "# generated from a normal distribution with\n",
    "# mean \"loc\" and standard deviation \"scale\"\n",
    "# the number of distinct variabels is \"size\"\n",
    "\n",
    "randomvar_a = np.random.normal(loc=0, scale=1, size=1000)\n",
    "print(randomvar_a)"
   ]
  },
  {
   "attachments": {},
   "cell_type": "markdown",
   "metadata": {},
   "source": [
    "<font size = \"5\">\n",
    "\n",
    "Choose a seed: Ensure replicability"
   ]
  },
  {
   "cell_type": "code",
   "execution_count": 101,
   "metadata": {},
   "outputs": [
    {
     "name": "stdout",
     "output_type": "stream",
     "text": [
      "[-0.20470766  0.47894334 -0.51943872 -0.5557303   1.96578057  1.39340583\n",
      "  0.09290788  0.28174615  0.76902257  1.24643474]\n"
     ]
    }
   ],
   "source": [
    "# Your computer will typically generate different numbers every time you run a command\n",
    "# However, sometimes you want to be able to replicate the results\n",
    "\n",
    "np.random.seed(12345)\n",
    "\n",
    "random_var_b = np.random.normal(loc=0, scale=1, size=10)\n",
    "print(random_var_b)"
   ]
  },
  {
   "attachments": {},
   "cell_type": "markdown",
   "metadata": {},
   "source": [
    "<font size = \"5\">\n",
    "\n",
    "Compute a histogram with the results"
   ]
  },
  {
   "cell_type": "code",
   "execution_count": 107,
   "metadata": {},
   "outputs": [
    {
     "data": {
      "text/plain": [
       "Text(0, 0.5, 'Frequency')"
      ]
     },
     "execution_count": 107,
     "metadata": {},
     "output_type": "execute_result"
    },
    {
     "data": {
      "image/png": "[encoded data removed]",
      "text/plain": [
       "<Figure size 640x480 with 1 Axes>"
      ]
     },
     "metadata": {},
     "output_type": "display_data"
    }
   ],
   "source": [
    "# Compute a histogram\n",
    "# You can edit the number of bins with plt.hist(x = randomvar_a)\n",
    "\n",
    "plt.hist(x = randomvar_a)\n",
    "plt.xlabel(\"Variable a\")\n",
    "plt.ylabel(\"Frequency\")"
   ]
  },
  {
   "cell_type": "markdown",
   "metadata": {},
   "source": []
  },
  {
   "cell_type": "code",
   "execution_count": null,
   "metadata": {},
   "outputs": [],
   "source": [
    "# Try generating a new random variable with 1000 observations and\n",
    "# create a histogram\n",
    "\n"
   ]
  },
  {
   "attachments": {},
   "cell_type": "markdown",
   "metadata": {},
   "source": [
    "# <span style=\"color:darkblue\"> Additional Resources </span>\n",
    "\n",
    "<font size=\"5\"> \n",
    "\n",
    "Check out additional examples at:\n",
    "\n",
    "- https://allendowney.github.io/ElementsOfDataScience/03_arrays.html\n",
    "\n"
   ]
  },
  {
   "attachments": {},
   "cell_type": "markdown",
   "metadata": {},
   "source": [
    "# <span style=\"color:darkblue\"> (Optional) Matrix Operations </span>\n",
    "\n",
    "<font size=\"5\"> \n"
   ]
  },
  {
   "attachments": {},
   "cell_type": "markdown",
   "metadata": {},
   "source": [
    "<font size = \"5\">\n",
    "Creating a matrix by stacking different rows"
   ]
  },
  {
   "cell_type": "code",
   "execution_count": 65,
   "metadata": {},
   "outputs": [
    {
     "name": "stdout",
     "output_type": "stream",
     "text": [
      "[[1 2 3]\n",
      " [4 5 6]\n",
      " [7 8 9]]\n"
     ]
    }
   ],
   "source": [
    "# Matrices are usually denoted by capital letters\n",
    "# The object [[1,2,3],[4,5,6],[7,8,9]] is a list of lists\n",
    "# It's useful to maintain this notation in the code as well\n",
    "\n",
    "X = np.array([[1,2,3],[4,5,6],[7,8,9]])\n",
    "print(X)"
   ]
  },
  {
   "attachments": {},
   "cell_type": "markdown",
   "metadata": {},
   "source": [
    "<font size = \"5\">\n",
    "Creating a matrix by stacking different columns"
   ]
  },
  {
   "cell_type": "code",
   "execution_count": 66,
   "metadata": {},
   "outputs": [
    {
     "name": "stdout",
     "output_type": "stream",
     "text": [
      "[[1 0]\n",
      " [0 1]\n",
      " [1 0]]\n"
     ]
    }
   ],
   "source": [
    "# You can also stack columns\n",
    "Y =  np.column_stack([[1,0,1],[0,1,0]])\n",
    "print(Y)"
   ]
  },
  {
   "attachments": {},
   "cell_type": "markdown",
   "metadata": {},
   "source": [
    "<font size = \"5\">\n",
    "Basic matrix operations"
   ]
  },
  {
   "cell_type": "code",
   "execution_count": 60,
   "metadata": {},
   "outputs": [
    {
     "data": {
      "text/plain": [
       "array([[1, 0, 1],\n",
       "       [0, 1, 0]])"
      ]
     },
     "execution_count": 60,
     "metadata": {},
     "output_type": "execute_result"
    }
   ],
   "source": [
    "# Matrix Transpose\n",
    "np.matrix.transpose(Y)"
   ]
  },
  {
   "cell_type": "code",
   "execution_count": 63,
   "metadata": {},
   "outputs": [
    {
     "name": "stdout",
     "output_type": "stream",
     "text": [
      "[[1 0]\n",
      " [0 1]\n",
      " [1 0]]\n"
     ]
    },
    {
     "data": {
      "text/plain": [
       "array([[1, 0],\n",
       "       [0, 1],\n",
       "       [1, 0]])"
      ]
     },
     "execution_count": 63,
     "metadata": {},
     "output_type": "execute_result"
    }
   ],
   "source": [
    "# Matrix Multiplication\n",
    "print(X)\n",
    "np.multiply(X,Y)"
   ]
  },
  {
   "cell_type": "code",
   "execution_count": 110,
   "metadata": {},
   "outputs": [
    {
     "name": "stdout",
     "output_type": "stream",
     "text": [
      "[[1 2 3]\n",
      " [4 5 6]\n",
      " [7 8 9]]\n"
     ]
    }
   ],
   "source": [
    "# Matrix inverse\n",
    "# The following command stands for linear algebrar inverse.\n",
    "\n",
    "\n",
    "X_inv = np.linalg.inv(X)\n",
    "print(X)"
   ]
  }
 ],
 "metadata": {
  "kernelspec": {
   "display_name": "Python 3",
   "language": "python",
   "name": "python3"
  },
  "language_info": {
   "codemirror_mode": {
    "name": "ipython",
    "version": 3
   },
   "file_extension": ".py",
   "mimetype": "text/x-python",
   "name": "python",
   "nbconvert_exporter": "python",
   "pygments_lexer": "ipython3",
   "version": "3.10.6 (v3.10.6:9c7b4bd164, Aug  1 2022, 17:13:48) [Clang 13.0.0 (clang-1300.0.29.30)]"
  },
  "orig_nbformat": 4,
  "vscode": {
   "interpreter": {
    "hash": "aee8b7b246df8f9039afb4144a1f6fd8d2ca17a180786b69acc140d282b71a49"
   }
  }
 },
 "nbformat": 4,
 "nbformat_minor": 2
}
